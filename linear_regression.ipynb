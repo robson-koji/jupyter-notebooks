{
 "cells": [
  {
   "cell_type": "markdown",
   "id": "1574684c",
   "metadata": {},
   "source": [
    "# A simple generic prediction\n",
    "\n",
    "Maybe the most simple generic prediction is a collection of points, and a linear regression (when applicable) pointing to the future.\n",
    "\n",
    "However, aside from the uncertainty that surrounds most predictions, shit happens all the time along the way. In the very recent years, Covid-19, Russia invasion, and finally, China's lockdown again, and maybe not the last impacting event. \n",
    "\n",
    "Which means that predictions have to be updated all the time. And it is also important to get track of the previous predictions for comparison and for impact analysis. "
   ]
  },
  {
   "cell_type": "markdown",
   "id": "14cca776",
   "metadata": {},
   "source": [
    "## Linear Regression\n",
    "\n",
    "The chart bellow can represent anything that relates to the stated use case above. Two lines which slopes varies, due to a great variation caused by an extremes events. \n",
    "\n",
    "This model was used only for the purpose of the exploration of the Scikit Learn library. The depicted problem is a time series, but the result variable has influence of other factors beyond the years interval. It is not a simple linear relation, but it applies for the purpose of the example.  \n",
    "\n",
    "There are many other use cases to predict future data, based on impacting events. Some examples can be the number of security incidents after the adoption of security measures, the production of some part after an industry buys new machinery."
   ]
  },
  {
   "cell_type": "markdown",
   "id": "3d021586",
   "metadata": {},
   "source": [
    "\n",
    "## Commented Code\n",
    "\n",
    "### Common data science libraries\n",
    "\n",
    "Importing Scikit Learn, NumPy, Pandas, Matplotlib"
   ]
  },
  {
   "cell_type": "code",
   "execution_count": 5,
   "id": "c67ab6ca",
   "metadata": {},
   "outputs": [],
   "source": [
    "import numpy as np \n",
    "import pandas as pd\n",
    "import json, datetime\n",
    "\n",
    "from sklearn import linear_model\n",
    "from sklearn.model_selection import train_test_split\n",
    "from sklearn.metrics import mean_absolute_error, r2_score\n",
    "\n",
    "import matplotlib.pyplot as plt\n",
    "from matplotlib.ticker import FuncFormatter"
   ]
  },
  {
   "cell_type": "markdown",
   "id": "b41c9d8f",
   "metadata": {},
   "source": [
    "### About the dataset\n",
    "This test relies on public data available on the open government initiative of the State of São Paulo - Brazil.\n",
    "\n",
    "http://catalogo.governoaberto.sp.gov.br/dataset/biblioteca-virtual-da-fapesp\n",
    "\n",
    "The data used on this notebook, feeds the bar chart here:\n",
    "https://bv.fapesp.br/pt/metapesquisa/"
   ]
  },
  {
   "cell_type": "code",
   "execution_count": 20,
   "id": "81786119",
   "metadata": {},
   "outputs": [],
   "source": [
    "data_from_json = json.loads(\n",
    "'{\"format_compatible\": [[\"1992\", 1148, 716], [\"1993\", 1647, 1273], [\"1994\", 1928, 1232], [\"1995\", 3141, 1855], [\"1996\", 4177, 3204], [\"1997\", 4268, 4351], [\"1998\", 3964, 4952], [\"1999\", 4013, 5081], [\"2000\", 3848, 5880], [\"2001\", 3222, 4428], [\"2002\", 3057, 4536], [\"2003\", 2821, 4253], [\"2004\", 3412, 4850], [\"2005\", 3265, 4764], [\"2006\", 4218, 6108], [\"2007\", 4374, 5892], [\"2008\", 4495, 6638], [\"2009\", 3977, 6912], [\"2010\", 4420, 6953], [\"2011\", 4589, 7468], [\"2012\", 4515, 8471], [\"2013\", 4256, 7962], [\"2014\", 4118, 7216], [\"2015\", 3656, 6153], [\"2016\", 3646, 6496], [\"2017\", 3471, 6643], [\"2018\", 3483, 7165], [\"2019\", 3235, 7256], [\"2020\", 1749, 4991], [\"2021\", 1700, 5058], [\"2022\", 645, 1608]]}')\n",
    "df = pd.DataFrame(data_from_json['format_compatible'], columns = ['date', 'research_grants', 'scholarships'])\n",
    "df['total'] = df['research_grants'] + df['scholarships']\n",
    "df = df.apply(pd.to_numeric)"
   ]
  },
  {
   "cell_type": "markdown",
   "id": "32277af5",
   "metadata": {},
   "source": [
    "### Model Training\n",
    "SciKit Learn methods to split and train data and test the model.\n",
    "To make possible the comparison between the two models, the same date were used for training. Except that for the model of the first period, the data didn't include the Covid-19 most critical period of the years 2020 and 2021. \n",
    "\n",
    "The second model include all data from the first model plus the Covid-19 critical years.\n",
    "\n",
    "The last point is the current year, 2022. And of course this data can be attached to an updated data, daily for instance, so you can follow what the model has predicted. And never forget to filter the data to be predicted from the training model. "
   ]
  },
  {
   "cell_type": "code",
   "execution_count": 15,
   "id": "31bdce4e",
   "metadata": {},
   "outputs": [],
   "source": [
    "\"\"\" Training data until 2019 - Before COVID \"\"\"\n",
    "\n",
    "df_up_to_2019 = df[df['date']<= 2019]\n",
    "\n",
    "# Get X values\n",
    "X_2019 = (df_up_to_2019.index -  df_up_to_2019.index[0]).values.reshape(-1, 1)\n",
    "y_2019 = df_up_to_2019.total\n",
    "\n",
    "# Linear Regression\n",
    "X_2019_train, X_2019_test, y_2019_train, y_2019_test = train_test_split(\n",
    "    X_2019, y_2019, test_size=0.33, random_state=42)\n",
    "regr_2019 = linear_model.LinearRegression()\n",
    "regr_2019.fit(X_2019_train, y_2019_train)\n",
    "\n",
    "# Normalize lenght\n",
    "b = np.array([[28], [29], [30]]) \n",
    "X_2019 = np.concatenate((X_2019, b))\n",
    "y_2019_pred = regr_2019.predict(X_2019)\n",
    "\n",
    "\n",
    "\"\"\" Training full data, up to 2021 to measure COVID impact \"\"\"\n",
    "df_up_to_2021 = df[df['date'] < 2022]\n",
    "\n",
    "# Get X values\n",
    "X = (df_up_to_2021.index -  df_up_to_2021.index[0]).values.reshape(-1, 1)\n",
    "y = df_up_to_2021.total\n",
    "\n",
    "# Linear Regression\n",
    "_, X_test, _, y_test = train_test_split(\n",
    "    X, y, test_size=0.33, random_state=42)\n",
    "regr = linear_model.LinearRegression()\n",
    "\n",
    "# Add 2020/2021 data \n",
    "X_train = np.concatenate((X_2019_train, X[-1:-3:-1]))\n",
    "y_train = np.concatenate((y_2019_train, y[-1:-3:-1]))\n",
    "regr.fit(X_train, y_train)\n",
    "\n",
    "# Normalize lenght\n",
    "b = np.array([[30]]) \n",
    "X = np.concatenate((X, b))\n",
    "y_pred = regr.predict(X)\n",
    "\n",
    "\n",
    "# Current value - 2022\n",
    "total_corrente = df[df['date'] == 2022]['total']"
   ]
  },
  {
   "cell_type": "markdown",
   "id": "3ebd6696",
   "metadata": {},
   "source": [
    "### Plot chart\n",
    "\n",
    "The most important informations ploted on the chart are placed in the legend area, at the top left corner. But it is important to highlight some already writen topics.\n",
    "\n",
    "The orange line was drawn over the green dots, used to train the model between 1922 and 2019 (inclusive). The blue line was trained with the same dots of the orange line, including the years 2020 and 2021.\n",
    "\n",
    "That is because the sample data is small and can make the comparison bad, in the case that the training data for both cases differentiates much.\n",
    "\n"
   ]
  },
  {
   "cell_type": "code",
   "execution_count": 32,
   "id": "1818572a",
   "metadata": {},
   "outputs": [
    {
     "data": {
      "image/png": "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\n",
      "text/plain": [
       "<Figure size 1008x504 with 1 Axes>"
      ]
     },
     "metadata": {
      "needs_background": "light"
     },
     "output_type": "display_data"
    }
   ],
   "source": [
    "    import warnings\n",
    "    warnings.filterwarnings('ignore')\n",
    "    \n",
    "    plt.figure(figsize=(14,7))\n",
    "    plt.scatter([X[-1]], \n",
    "                total_corrente, \n",
    "                color=\"blue\", s=50, \n",
    "                marker=\"x\", \n",
    "                label = '2022 - Current updated value')\n",
    "    \n",
    "    ## Before COVID\n",
    "    plt.plot(X_2019, \n",
    "             y_2019_pred, \n",
    "             color=\"orange\", \n",
    "             linewidth=1, \n",
    "             label = 'Before COVID - Excluded 2020 and 2021 data')\n",
    "    \n",
    "    plt.scatter(X_2019_train, y_2019_train, color=\"#00FF00\")\n",
    "\n",
    "    \n",
    "    ## After COVID\n",
    "    plt.plot(X, \n",
    "             y_pred, \n",
    "             color=\"blue\", \n",
    "             linewidth=1, \n",
    "             label = 'After COVID - Full data')\n",
    "    \n",
    "    plt.scatter(X_train, y_train, color=\"#00FF00\", label = 'Scatter plot (model training)')\n",
    "\n",
    "    ## Full data = Test data + train data\n",
    "    plt.scatter(X_train, y_train, color=\"k\", s=6)\n",
    "    plt.scatter(X_2019_train, y_2019_train, color=\"k\", s=6)\n",
    "    plt.scatter(X_2019_test, y_2019_test, color=\"k\", s=6)\n",
    "    plt.scatter(X_test, y_test, color=\"k\", s=6, label = 'Scatter plot (full data)')\n",
    "\n",
    "    \n",
    "    # Chart details - grid, axis, labels\n",
    "    plt.grid(lw=0.3)\n",
    "    ax = plt.gca()\n",
    "    ax.set_xticklabels(['0', '1992', '1997', '2002', '2007', '2012', '2017', '2022'])\n",
    "\n",
    "    def human_format(num, pos):\n",
    "        magnitude = 0\n",
    "        while abs(num) >= 1000:\n",
    "            magnitude += 1\n",
    "            num /= 1000.0\n",
    "        # Format Y tick label volums\n",
    "        return '%.1f%s' % (num, ['', 'K', 'M', 'G', 'T', 'P'][magnitude])\n",
    "\n",
    "    formatter = FuncFormatter(human_format)\n",
    "    ax.yaxis.set_major_formatter(formatter)\n",
    "\n",
    "    last_update = 'Last update: {}'.format(str(datetime.date.today().strftime(\"%b %d %Y\")))\n",
    "    plt.xlabel(last_update, labelpad=15)\n",
    "    plt.rc('axes', labelsize=14) \n",
    "\n",
    "    handles, labels = plt.gca().get_legend_handles_labels()\n",
    "    order = [1,2,3,4,0]\n",
    "    plt.legend([handles[idx] for idx in order],[labels[idx] for idx in order]) \n",
    "\n",
    "    plt.show()\n"
   ]
  },
  {
   "cell_type": "markdown",
   "id": "87875ad3",
   "metadata": {},
   "source": [
    "### Model Evaluation\n",
    "\n",
    "SciKit Learn methods to evaluate Machine Learning models.\n",
    "\n",
    "This study aimed to make the right usage of the librarie's API, and to make use of a simple datasource to demonstrate in a simple manner, how to obtain useful information. \n",
    "\n",
    "The use of the same data for trainning for both models, only adding data to the second model, may have caused the Coefficient of determination of the second model decrease.\n"
    "Gradually, I will test other models to try to incremente the evaluation result and improve the overall results. "
   ]
  },
  {
   "cell_type": "code",
   "execution_count": 31,
   "id": "20f96533",
   "metadata": {
    "scrolled": true
   },
   "outputs": [
    {
     "name": "stdout",
     "output_type": "stream",
     "text": [
      "Pre-COVID years - Up to 2019\n",
      "Coefficients:  251.9\n",
      "Intercept:  5.6K\n",
      "Mean absolute error: 1.5K\n",
      "Coefficient of determination: 0.62\n",
      "\n",
      "\n",
      "\n",
      "COVID years included - Up to 2021\n",
      "Coefficients:  155.9\n",
      "Intercept:  6.5K\n",
      "Mean absolute error: 1.7K\n",
      "Coefficient of determination: 0.36\n"
     ]
    }
   ],
   "source": [
    "print(\"Pre-COVID years - Up to 2019\")\n",
    "print(\"Coefficients: \", human_format(regr_2019.coef_[0], 0))\n",
    "print(\"Intercept: \", human_format(regr_2019.intercept_, 0))\n",
    "mae = mean_absolute_error(y_2019, y_2019_pred[:len(y_2019)])\n",
    "print(\"Mean absolute error: %s\" % human_format(mae, 0))\n",
    "print(\"Coefficient of determination: %.2f\" % r2_score(y_2019, y_2019_pred[:len(y_2019)]))\n",
    "\n",
    "print(\"\\n\\n\")\n",
    "\n",
    "print(\"COVID years included - Up to 2021\")\n",
    "print(\"Coefficients: \", human_format(regr.coef_[0], 0))\n",
    "print(\"Intercept: \", human_format(regr.intercept_, 0))\n",
    "mae = mean_absolute_error(y,  y_pred[:len(y)])\n",
    "print(\"Mean absolute error: %s\" % human_format(mae, 0))\n",
    "print(\"Coefficient of determination: %.2f\" % r2_score(y, y_pred[:len(y)],))"
   ]
  }
 ],
 "metadata": {
  "kernelspec": {
   "display_name": "Python 3 (ipykernel)",
   "language": "python",
   "name": "python3"
  },
  "language_info": {
   "codemirror_mode": {
    "name": "ipython",
    "version": 3
   },
   "file_extension": ".py",
   "mimetype": "text/x-python",
   "name": "python",
   "nbconvert_exporter": "python",
   "pygments_lexer": "ipython3",
   "version": "3.9.12"
  }
 },
 "nbformat": 4,
 "nbformat_minor": 5
}
